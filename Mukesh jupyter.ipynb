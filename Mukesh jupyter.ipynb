{
 "cells": [
  {
   "cell_type": "code",
   "execution_count": 1,
   "id": "633f6e8e",
   "metadata": {},
   "outputs": [
    {
     "data": {
      "text/plain": [
       "2"
      ]
     },
     "execution_count": 1,
     "metadata": {},
     "output_type": "execute_result"
    }
   ],
   "source": [
    "1+1"
   ]
  },
  {
   "cell_type": "code",
   "execution_count": 2,
   "id": "fe4b6955",
   "metadata": {},
   "outputs": [
    {
     "ename": "SyntaxError",
     "evalue": "invalid syntax (3218142002.py, line 1)",
     "output_type": "error",
     "traceback": [
      "\u001b[1;36m  Input \u001b[1;32mIn [2]\u001b[1;36m\u001b[0m\n\u001b[1;33m    59864569853476+443u8573245475\u001b[0m\n\u001b[1;37m                      ^\u001b[0m\n\u001b[1;31mSyntaxError\u001b[0m\u001b[1;31m:\u001b[0m invalid syntax\n"
     ]
    }
   ],
   "source": [
    "59864569853476+443u8573245475\n"
   ]
  },
  {
   "cell_type": "code",
   "execution_count": 3,
   "id": "8567e6e7",
   "metadata": {},
   "outputs": [
    {
     "data": {
      "text/plain": [
       "48754392372131512"
      ]
     },
     "execution_count": 3,
     "metadata": {},
     "output_type": "execute_result"
    }
   ],
   "source": [
    "5787435864+48754386584695648"
   ]
  },
  {
   "cell_type": "code",
   "execution_count": 4,
   "id": "69df3e85",
   "metadata": {},
   "outputs": [
    {
     "data": {
      "text/plain": [
       "74543326386161619492725781518"
      ]
     },
     "execution_count": 4,
     "metadata": {},
     "output_type": "execute_result"
    }
   ],
   "source": [
    "74542939836593275639461396193+386549568343853264385325"
   ]
  },
  {
   "cell_type": "code",
   "execution_count": 5,
   "id": "578d8bde",
   "metadata": {},
   "outputs": [
    {
     "data": {
      "text/plain": [
       "46858952226"
      ]
     },
     "execution_count": 5,
     "metadata": {},
     "output_type": "execute_result"
    }
   ],
   "source": [
    "486542+46858465684"
   ]
  },
  {
   "cell_type": "code",
   "execution_count": 6,
   "id": "91ed20c6",
   "metadata": {},
   "outputs": [
    {
     "data": {
      "text/plain": [
       "591451897109513"
      ]
     },
     "execution_count": 6,
     "metadata": {},
     "output_type": "execute_result"
    }
   ],
   "source": [
    "4865438653275+586586458456238"
   ]
  },
  {
   "cell_type": "code",
   "execution_count": 7,
   "id": "0bb5c884",
   "metadata": {},
   "outputs": [
    {
     "data": {
      "text/plain": [
       "2779207810920418122634554698130"
      ]
     },
     "execution_count": 7,
     "metadata": {},
     "output_type": "execute_result"
    }
   ],
   "source": [
    "475347584658465*5846685458425682"
   ]
  },
  {
   "cell_type": "code",
   "execution_count": null,
   "id": "de107e7a",
   "metadata": {},
   "outputs": [],
   "source": []
  }
 ],
 "metadata": {
  "kernelspec": {
   "display_name": "Python 3 (ipykernel)",
   "language": "python",
   "name": "python3"
  },
  "language_info": {
   "codemirror_mode": {
    "name": "ipython",
    "version": 3
   },
   "file_extension": ".py",
   "mimetype": "text/x-python",
   "name": "python",
   "nbconvert_exporter": "python",
   "pygments_lexer": "ipython3",
   "version": "3.9.12"
  }
 },
 "nbformat": 4,
 "nbformat_minor": 5
}
